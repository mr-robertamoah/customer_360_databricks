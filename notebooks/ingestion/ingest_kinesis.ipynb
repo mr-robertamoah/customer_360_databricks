{
 "cells": [
  {
   "cell_type": "code",
   "execution_count": 0,
   "metadata": {
    "application/vnd.databricks.v1+cell": {
     "cellMetadata": {
      "byteLimit": 2048000,
      "rowLimit": 10000
     },
     "inputWidgets": {},
     "nuid": "16eabb8e-9a99-4684-9f17-337349f1e2eb",
     "showTitle": false,
     "tableResultSettingsMap": {},
     "title": ""
    }
   },
   "outputs": [],
   "source": [
    "%load_ext autoreload\n",
    "%autoreload 2\n",
    "# Enables autoreload; learn more at https://docs.databricks.com/en/files/workspace-modules.html#autoreload-for-python-modules\n",
    "# To disable autoreload; run %autoreload 0"
   ]
  },
  {
   "cell_type": "markdown",
   "metadata": {
    "application/vnd.databricks.v1+cell": {
     "cellMetadata": {
      "byteLimit": 2048000,
      "rowLimit": 10000
     },
     "inputWidgets": {},
     "nuid": "694499fa-d8ee-4e4d-88cf-3f9fe600a05c",
     "showTitle": false,
     "tableResultSettingsMap": {},
     "title": ""
    }
   },
   "source": [
    "\n",
    "# Tables\n",
    "\n",
    "---\n",
    "\n",
    "## kinesis source\n",
    "- clickstream\n",
    "\n",
    "## ingested tables\n",
    "- clickstream_raw\n",
    "\n",
    "## bronze tables\n",
    "- clickstream_bronze"
   ]
  },
  {
   "cell_type": "code",
   "execution_count": 0,
   "metadata": {
    "application/vnd.databricks.v1+cell": {
     "cellMetadata": {
      "byteLimit": 2048000,
      "rowLimit": 10000
     },
     "inputWidgets": {},
     "nuid": "91f2cb1e-bb2d-47a0-a71b-4acc25cdf06a",
     "showTitle": false,
     "tableResultSettingsMap": {},
     "title": ""
    }
   },
   "outputs": [],
   "source": [
    "from config.settings import *"
   ]
  },
  {
   "cell_type": "code",
   "execution_count": 0,
   "metadata": {
    "application/vnd.databricks.v1+cell": {
     "cellMetadata": {
      "byteLimit": 2048000,
      "rowLimit": 10000
     },
     "inputWidgets": {},
     "nuid": "9b395484-53c7-4645-ae7f-5f382460858f",
     "showTitle": false,
     "tableResultSettingsMap": {},
     "title": ""
    }
   },
   "outputs": [],
   "source": [
    "%run \"../../config/setup\""
   ]
  },
  {
   "cell_type": "code",
   "execution_count": 0,
   "metadata": {
    "application/vnd.databricks.v1+cell": {
     "cellMetadata": {
      "byteLimit": 2048000,
      "rowLimit": 10000
     },
     "inputWidgets": {},
     "nuid": "e0b60398-d898-4d67-84d7-bb0c787bd9a0",
     "showTitle": false,
     "tableResultSettingsMap": {},
     "title": ""
    }
   },
   "outputs": [],
   "source": [
    "\n",
    "streaming_df = (spark.readStream \\\n",
    "    .format(\"kinesis\") \\\n",
    "    .option(\"streamName\", KINESIS_STREAM) \\\n",
    "    .option(\"region\", AWS_REGION) \\\n",
    "    .option(\"initialPosition\", \"latest\") \\\n",
    "    .load())\n",
    "    "
   ]
  },
  {
   "cell_type": "code",
   "execution_count": 0,
   "metadata": {
    "application/vnd.databricks.v1+cell": {
     "cellMetadata": {
      "byteLimit": 2048000,
      "rowLimit": 10000
     },
     "inputWidgets": {},
     "nuid": "79dba311-ed60-484f-a825-0efe23ad2d10",
     "showTitle": false,
     "tableResultSettingsMap": {},
     "title": ""
    }
   },
   "outputs": [],
   "source": [
    "import pyspark.sql.functions as F\n",
    "from pyspark.sql.types import StructType, StructField, StringType, TimestampType, BinaryType\n",
    "\n",
    "clickstream_schema = StructType([\n",
    "    StructField(\"partitionKey\", StringType(), True),\n",
    "    StructField(\"data\", BinaryType(), True),\n",
    "    StructField(\"stream\", StringType(), True),\n",
    "    StructField(\"shardId\", StringType(), True),\n",
    "    StructField(\"sequenceNumber\", StringType(), True),\n",
    "    StructField(\"approximateArrivalTimestamp\", TimestampType(), True)\n",
    "])\n",
    "\n",
    "parsed = (streaming_df \\\n",
    "    .withColumn(\"json\", F.from_json(F.col(\"data\").cast(\"string\"), clickstream_schema)) \\\n",
    "    .selectExpr(\"json.*\"))\n",
    "\n",
    "display(parsed)\n",
    "# query = (parsed\n",
    "#     .writeStream \\\n",
    "#     .format(\"delta\") \\\n",
    "#     .option(\"checkpointLocation\", f\"{S3_BUCKET_URI}/checkpoints\") \\\n",
    "#     .outputMode(\"append\") \\\n",
    "#     .trigger(availableNow=True) \\\n",
    "#     .toTable(\"clickstream_raw\"))\n",
    "\n",
    "# query.awaitTermination()"
   ]
  },
  {
   "cell_type": "code",
   "execution_count": 0,
   "metadata": {
    "application/vnd.databricks.v1+cell": {
     "cellMetadata": {},
     "inputWidgets": {},
     "nuid": "1dac8c64-ae6d-4214-ba04-0b50734c5876",
     "showTitle": false,
     "tableResultSettingsMap": {},
     "title": ""
    }
   },
   "outputs": [],
   "source": []
  }
 ],
 "metadata": {
  "application/vnd.databricks.v1+notebook": {
   "computePreferences": null,
   "dashboards": [],
   "environmentMetadata": {
    "base_environment": "",
    "environment_version": "2"
   },
   "language": "python",
   "notebookMetadata": {
    "mostRecentlyExecutedCommandWithImplicitDF": {
     "commandId": 5045441379506714,
     "dataframes": [
      "_sqldf"
     ]
    },
    "pythonIndentUnit": 4
   },
   "notebookName": "ingest_kinesis",
   "widgets": {}
  },
  "language_info": {
   "name": "python"
  }
 },
 "nbformat": 4,
 "nbformat_minor": 0
}

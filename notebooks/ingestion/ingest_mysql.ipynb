{
 "cells": [
  {
   "cell_type": "code",
   "execution_count": 0,
   "metadata": {
    "application/vnd.databricks.v1+cell": {
     "cellMetadata": {
      "byteLimit": 2048000,
      "rowLimit": 10000
     },
     "inputWidgets": {},
     "nuid": "f1ceedc8-7dfc-43f0-a32e-11f44b03216d",
     "showTitle": false,
     "tableResultSettingsMap": {},
     "title": ""
    }
   },
   "outputs": [],
   "source": [
    "# %load_ext autoreload\n",
    "# %autoreload 2\n",
    "# Enables autoreload; learn more at https://docs.databricks.com/en/files/workspace-modules.html#autoreload-for-python-modules\n",
    "# To disable autoreload; run %autoreload 0"
   ]
  },
  {
   "cell_type": "markdown",
   "metadata": {
    "application/vnd.databricks.v1+cell": {
     "cellMetadata": {},
     "inputWidgets": {},
     "nuid": "a77af647-953f-4631-99cb-43cfd777f590",
     "showTitle": false,
     "tableResultSettingsMap": {},
     "title": ""
    }
   },
   "source": [
    "\n",
    "# Tables\n",
    "\n",
    "---\n",
    "\n",
    "## mysql sources\n",
    "- customers\n",
    "- items\n",
    "\n",
    "## bronze tables\n",
    "- customers_bronze\n",
    "- items_bronze"
   ]
  },
  {
   "cell_type": "code",
   "execution_count": 0,
   "metadata": {
    "application/vnd.databricks.v1+cell": {
     "cellMetadata": {
      "byteLimit": 2048000,
      "rowLimit": 10000
     },
     "inputWidgets": {},
     "nuid": "3e60d62e-2aaa-4f8a-8042-6542032e04b9",
     "showTitle": false,
     "tableResultSettingsMap": {},
     "title": ""
    }
   },
   "outputs": [],
   "source": [
    "%run \"../../config/setup\""
   ]
  },
  {
   "cell_type": "markdown",
   "metadata": {
    "application/vnd.databricks.v1+cell": {
     "cellMetadata": {},
     "inputWidgets": {},
     "nuid": "4ed990b5-57a8-4096-9c8f-def5a284935a",
     "showTitle": false,
     "tableResultSettingsMap": {},
     "title": ""
    }
   },
   "source": [
    "\n",
    "### Python Utils\n",
    "\n",
    "Python util functions for ingesting mysql and writing to delta"
   ]
  },
  {
   "cell_type": "code",
   "execution_count": 0,
   "metadata": {
    "application/vnd.databricks.v1+cell": {
     "cellMetadata": {
      "byteLimit": 2048000,
      "rowLimit": 10000
     },
     "inputWidgets": {},
     "nuid": "874a7b1e-2bd1-498e-acad-24f528af6a4d",
     "showTitle": false,
     "tableResultSettingsMap": {},
     "title": ""
    }
   },
   "outputs": [],
   "source": [
    "from notebooks.utils.mysql_ingestion import *"
   ]
  },
  {
   "cell_type": "code",
   "execution_count": 0,
   "metadata": {
    "application/vnd.databricks.v1+cell": {
     "cellMetadata": {
      "byteLimit": 2048000,
      "rowLimit": 10000
     },
     "inputWidgets": {},
     "nuid": "db0bc605-d719-4b36-af35-0a8492af1824",
     "showTitle": false,
     "tableResultSettingsMap": {},
     "title": ""
    }
   },
   "outputs": [],
   "source": [
    "from config.settings import *\n",
    "from pyspark.sql.functions import input_file_name, current_timestamp\n",
    "\n",
    "dbutils.widgets.text(\"database\", RDS_DATABASE)\n",
    "dbutils.widgets.text(\"host\", RDS_HOST)\n",
    "dbutils.widgets.text(\"user\", RDS_USER)\n",
    "dbutils.widgets.text(\"port\", RDS_PORT)\n",
    "dbutils.widgets.text(\"password\", RDS_PASSWORD)"
   ]
  },
  {
   "cell_type": "markdown",
   "metadata": {
    "application/vnd.databricks.v1+cell": {
     "cellMetadata": {},
     "inputWidgets": {},
     "nuid": "9b0c8016-8a41-43ce-b981-45a7692ed77a",
     "showTitle": false,
     "tableResultSettingsMap": {},
     "title": ""
    }
   },
   "source": [
    "\n",
    "### SQL code for ingesting customers data from RDS"
   ]
  },
  {
   "cell_type": "code",
   "execution_count": 0,
   "metadata": {
    "application/vnd.databricks.v1+cell": {
     "cellMetadata": {
      "byteLimit": 2048000,
      "implicitDf": true,
      "rowLimit": 10000
     },
     "inputWidgets": {},
     "nuid": "3e0bcb3d-2609-4af1-a1c5-d1f4cc9a42ee",
     "showTitle": false,
     "tableResultSettingsMap": {},
     "title": ""
    }
   },
   "outputs": [],
   "source": [
    "%sql\n",
    "\n",
    "CREATE OR REPLACE TEMP VIEW customers_tv\n",
    "USING mysql\n",
    "OPTIONS (\n",
    "  dbtable \"customers\",\n",
    "  user \"${user}\",\n",
    "  password \"${password}\",\n",
    "  host \"${host}\",\n",
    "  port \"${port}\",\n",
    "  database \"${database}\",\n",
    "  driver \"org.mariadb.jdbc.Driver\"\n",
    ");\n",
    "\n",
    "CREATE OR REPLACE TABLE customers_bronze AS\n",
    "SELECT *, current_timestamp() AS ingest_ts FROM customers_tv;\n",
    "\n",
    "-- SELECT * FROM customers_bronze;"
   ]
  },
  {
   "cell_type": "markdown",
   "metadata": {
    "application/vnd.databricks.v1+cell": {
     "cellMetadata": {},
     "inputWidgets": {},
     "nuid": "f6a40de1-7016-4da1-a728-ff48e18a4b76",
     "showTitle": false,
     "tableResultSettingsMap": {},
     "title": ""
    }
   },
   "source": [
    "\n",
    "### Python code for ingesting customers data from RDS"
   ]
  },
  {
   "cell_type": "code",
   "execution_count": 0,
   "metadata": {
    "application/vnd.databricks.v1+cell": {
     "cellMetadata": {
      "byteLimit": 2048000,
      "rowLimit": 10000
     },
     "inputWidgets": {},
     "nuid": "b7929dc2-f412-43c3-bf2c-d6189bffac2b",
     "showTitle": false,
     "tableResultSettingsMap": {},
     "title": ""
    }
   },
   "outputs": [],
   "source": [
    "\n",
    "# def mysql_to_dataframe(spark, table_name):\n",
    "#     return ingest_mysql_table(\n",
    "#         spark,\n",
    "#         table_name,\n",
    "#         {\n",
    "#             \"host\": RDS_HOST,\n",
    "#             \"port\": \"3306\",\n",
    "#             \"database\": RDS_DATABASE,\n",
    "#             \"user\": RDS_USER,\n",
    "#             \"password\": RDS_PASSWORD,\n",
    "#         }\n",
    "#     )"
   ]
  },
  {
   "cell_type": "code",
   "execution_count": 0,
   "metadata": {
    "application/vnd.databricks.v1+cell": {
     "cellMetadata": {
      "byteLimit": 2048000,
      "rowLimit": 10000
     },
     "inputWidgets": {},
     "nuid": "86cdf9f5-d47b-49ac-a86a-6ec09658f1bb",
     "showTitle": false,
     "tableResultSettingsMap": {},
     "title": ""
    }
   },
   "outputs": [],
   "source": [
    "# %python\n",
    "\n",
    "# customers = mysql_to_dataframe(spark, \"customers\")\n",
    "\n",
    "# write_ingested_mysql_dataframe(customers, \"customers_bronze\")\n",
    "\n",
    "# display(spark.table('customers_bronze'))"
   ]
  },
  {
   "cell_type": "code",
   "execution_count": 0,
   "metadata": {
    "application/vnd.databricks.v1+cell": {
     "cellMetadata": {
      "byteLimit": 2048000,
      "implicitDf": true,
      "rowLimit": 10000
     },
     "inputWidgets": {},
     "nuid": "1594912e-ea97-4466-b6a6-f6cd32548bba",
     "showTitle": false,
     "tableResultSettingsMap": {},
     "title": ""
    }
   },
   "outputs": [],
   "source": [
    "%sql\n",
    "-- grant select on customers_bronze to devs\n",
    "GRANT SELECT ON TABLE customers_bronze TO devs;"
   ]
  },
  {
   "cell_type": "markdown",
   "metadata": {
    "application/vnd.databricks.v1+cell": {
     "cellMetadata": {},
     "inputWidgets": {},
     "nuid": "e765f850-4571-434f-866a-f21d747bb5ce",
     "showTitle": false,
     "tableResultSettingsMap": {},
     "title": ""
    }
   },
   "source": [
    "\n",
    "### SQL code for ingesting items data from RDS"
   ]
  },
  {
   "cell_type": "code",
   "execution_count": 0,
   "metadata": {
    "application/vnd.databricks.v1+cell": {
     "cellMetadata": {
      "byteLimit": 2048000,
      "implicitDf": true,
      "rowLimit": 10000
     },
     "inputWidgets": {},
     "nuid": "a6df6484-9f50-48a1-bdd4-75419cd90c26",
     "showTitle": false,
     "tableResultSettingsMap": {},
     "title": ""
    }
   },
   "outputs": [],
   "source": [
    "%sql\n",
    "\n",
    "CREATE OR REPLACE TEMP VIEW items_tv\n",
    "USING mysql\n",
    "OPTIONS (\n",
    "  dbtable \"items\",\n",
    "  user \"${user}\",\n",
    "  password \"${password}\",\n",
    "  host \"${host}\",\n",
    "  port \"${port}\",\n",
    "  database \"${database}\",\n",
    "  driver \"org.mariadb.jdbc.Driver\"\n",
    ");\n",
    "\n",
    "CREATE OR REPLACE TABLE items_bronze AS\n",
    "SELECT *, current_timestamp() AS ingest_ts FROM items_tv;\n",
    "\n",
    "SELECT * FROM items_bronze;"
   ]
  },
  {
   "cell_type": "markdown",
   "metadata": {
    "application/vnd.databricks.v1+cell": {
     "cellMetadata": {},
     "inputWidgets": {},
     "nuid": "7d7d0aac-dc61-4cf5-93c6-5902e8d2f612",
     "showTitle": false,
     "tableResultSettingsMap": {},
     "title": ""
    }
   },
   "source": [
    "\n",
    "### Python code for ingesting items data from RDS"
   ]
  },
  {
   "cell_type": "code",
   "execution_count": 0,
   "metadata": {
    "application/vnd.databricks.v1+cell": {
     "cellMetadata": {
      "byteLimit": 2048000,
      "rowLimit": 10000
     },
     "inputWidgets": {},
     "nuid": "7f578100-142a-4db8-92b5-241810056689",
     "showTitle": false,
     "tableResultSettingsMap": {},
     "title": ""
    }
   },
   "outputs": [],
   "source": [
    "# %python\n",
    "\n",
    "# items = mysql_to_dataframe(spark, \"items\")\n",
    "\n",
    "# write_ingested_mysql_dataframe(items, \"items_bronze\")\n",
    "\n",
    "# display(spark.table('items_bronze'))"
   ]
  },
  {
   "cell_type": "code",
   "execution_count": 0,
   "metadata": {
    "application/vnd.databricks.v1+cell": {
     "cellMetadata": {
      "byteLimit": 2048000,
      "implicitDf": true,
      "rowLimit": 10000
     },
     "inputWidgets": {},
     "nuid": "8168bcfa-19c7-4995-b54f-94214559eecc",
     "showTitle": false,
     "tableResultSettingsMap": {},
     "title": ""
    }
   },
   "outputs": [],
   "source": [
    "%sql\n",
    "-- grant select on items_bronze to devs\n",
    "GRANT SELECT ON TABLE items_bronze TO devs;"
   ]
  }
 ],
 "metadata": {
  "application/vnd.databricks.v1+notebook": {
   "computePreferences": null,
   "dashboards": [],
   "environmentMetadata": {
    "base_environment": "",
    "environment_version": "2"
   },
   "language": "python",
   "notebookMetadata": {
    "mostRecentlyExecutedCommandWithImplicitDF": {
     "commandId": 7374716136862927,
     "dataframes": [
      "_sqldf"
     ]
    },
    "pythonIndentUnit": 4
   },
   "notebookName": "ingest_mysql",
   "widgets": {
    "database": {
     "currentValue": "customer360",
     "nuid": "c2af77ab-8275-44df-9e5a-22ff2d59ad5d",
     "typedWidgetInfo": {
      "autoCreated": false,
      "defaultValue": "customer360",
      "label": null,
      "name": "database",
      "options": {
       "widgetDisplayType": "Text",
       "validationRegex": null
      },
      "parameterDataType": "String"
     },
     "widgetInfo": {
      "widgetType": "text",
      "defaultValue": "customer360",
      "label": null,
      "name": "database",
      "options": {
       "widgetType": "text",
       "autoCreated": null,
       "validationRegex": null
      }
     }
    },
    "host": {
     "currentValue": "customer360.ctiamueaikdi.eu-central-1.rds.amazonaws.com",
     "nuid": "7363ee76-44c9-4d80-8105-21c5d5a1943f",
     "typedWidgetInfo": {
      "autoCreated": false,
      "defaultValue": "customer360.ctiamueaikdi.eu-central-1.rds.amazonaws.com",
      "label": null,
      "name": "host",
      "options": {
       "widgetDisplayType": "Text",
       "validationRegex": null
      },
      "parameterDataType": "String"
     },
     "widgetInfo": {
      "widgetType": "text",
      "defaultValue": "customer360.ctiamueaikdi.eu-central-1.rds.amazonaws.com",
      "label": null,
      "name": "host",
      "options": {
       "widgetType": "text",
       "autoCreated": null,
       "validationRegex": null
      }
     }
    },
    "password": {
     "currentValue": "thisiscustomer360",
     "nuid": "813d94b9-95f9-4f92-9acb-48b7254c734c",
     "typedWidgetInfo": {
      "autoCreated": false,
      "defaultValue": "thisiscustomer360",
      "label": null,
      "name": "password",
      "options": {
       "widgetDisplayType": "Text",
       "validationRegex": null
      },
      "parameterDataType": "String"
     },
     "widgetInfo": {
      "widgetType": "text",
      "defaultValue": "thisiscustomer360",
      "label": null,
      "name": "password",
      "options": {
       "widgetType": "text",
       "autoCreated": null,
       "validationRegex": null
      }
     }
    },
    "port": {
     "currentValue": "3306",
     "nuid": "e52dff12-7dbb-40f5-ad81-74d3e8c852b2",
     "typedWidgetInfo": {
      "autoCreated": false,
      "defaultValue": "3306",
      "label": null,
      "name": "port",
      "options": {
       "widgetDisplayType": "Text",
       "validationRegex": null
      },
      "parameterDataType": "String"
     },
     "widgetInfo": {
      "widgetType": "text",
      "defaultValue": "3306",
      "label": null,
      "name": "port",
      "options": {
       "widgetType": "text",
       "autoCreated": null,
       "validationRegex": null
      }
     }
    },
    "url": {
     "currentValue": "jdbc:mysql://customer360.ctiamueaikdi.eu-central-1.rds.amazonaws.com:3306/customer360",
     "nuid": "d4736d7e-00d0-41d3-839c-8ec0d65ce7ec",
     "typedWidgetInfo": {
      "autoCreated": false,
      "defaultValue": "jdbc:mysql://customer360.ctiamueaikdi.eu-central-1.rds.amazonaws.com:3306/customer360",
      "label": null,
      "name": "url",
      "options": {
       "widgetDisplayType": "Text",
       "validationRegex": null
      },
      "parameterDataType": "String"
     },
     "widgetInfo": {
      "widgetType": "text",
      "defaultValue": "jdbc:mysql://customer360.ctiamueaikdi.eu-central-1.rds.amazonaws.com:3306/customer360",
      "label": null,
      "name": "url",
      "options": {
       "widgetType": "text",
       "autoCreated": false,
       "validationRegex": null
      }
     }
    },
    "user": {
     "currentValue": "admin",
     "nuid": "3a351f58-9a54-4ffb-9845-64e22bb0e8c6",
     "typedWidgetInfo": {
      "autoCreated": false,
      "defaultValue": "admin",
      "label": null,
      "name": "user",
      "options": {
       "widgetDisplayType": "Text",
       "validationRegex": null
      },
      "parameterDataType": "String"
     },
     "widgetInfo": {
      "widgetType": "text",
      "defaultValue": "admin",
      "label": null,
      "name": "user",
      "options": {
       "widgetType": "text",
       "autoCreated": null,
       "validationRegex": null
      }
     }
    }
   }
  },
  "language_info": {
   "name": "python"
  }
 },
 "nbformat": 4,
 "nbformat_minor": 0
}

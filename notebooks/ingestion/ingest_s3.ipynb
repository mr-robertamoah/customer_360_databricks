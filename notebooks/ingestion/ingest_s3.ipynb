{
 "cells": [
  {
   "cell_type": "markdown",
   "metadata": {
    "application/vnd.databricks.v1+cell": {
     "cellMetadata": {
      "byteLimit": 2048000,
      "rowLimit": 10000
     },
     "inputWidgets": {},
     "nuid": "3734cf61-1892-40d3-90ba-9b31e3c3399d",
     "showTitle": false,
     "tableResultSettingsMap": {},
     "title": ""
    }
   },
   "source": [
    "\n",
    "# Tables\n",
    "\n",
    "---\n",
    "\n",
    "## s3 sources\n",
    "- orders\n",
    "- transactions\n",
    "- preferences\n",
    "- facebook\n",
    "\n",
    "## bronze tables\n",
    "- orders_bronze\n",
    "- transactions_bronze\n",
    "- preferences_bronze\n",
    "- facebook_bronze"
   ]
  },
  {
   "cell_type": "code",
   "execution_count": 0,
   "metadata": {
    "application/vnd.databricks.v1+cell": {
     "cellMetadata": {
      "byteLimit": 2048000,
      "implicitDf": true,
      "rowLimit": 10000
     },
     "inputWidgets": {},
     "nuid": "ee673665-cc18-4296-9dc7-2b7aa9abed7d",
     "showTitle": false,
     "tableResultSettingsMap": {},
     "title": ""
    }
   },
   "outputs": [],
   "source": [
    "%run \"../../config/setup\""
   ]
  },
  {
   "cell_type": "code",
   "execution_count": 0,
   "metadata": {
    "application/vnd.databricks.v1+cell": {
     "cellMetadata": {
      "byteLimit": 2048000,
      "rowLimit": 10000
     },
     "inputWidgets": {},
     "nuid": "0ed6ba2f-9ff4-4958-98ee-575db2fbce5c",
     "showTitle": false,
     "tableResultSettingsMap": {},
     "title": ""
    }
   },
   "outputs": [],
   "source": [
    "from config.settings import *\n",
    "import pyspark.sql.functions as F"
   ]
  },
  {
   "cell_type": "code",
   "execution_count": 0,
   "metadata": {
    "application/vnd.databricks.v1+cell": {
     "cellMetadata": {
      "byteLimit": 2048000,
      "rowLimit": 10000
     },
     "inputWidgets": {},
     "nuid": "1c6b8580-1302-4bde-87ae-376723474d1d",
     "showTitle": false,
     "tableResultSettingsMap": {},
     "title": ""
    }
   },
   "outputs": [],
   "source": [
    "# display(dbutils.fs.ls(f\"{S3_BUCKET_URI}\"))"
   ]
  },
  {
   "cell_type": "code",
   "execution_count": 0,
   "metadata": {
    "application/vnd.databricks.v1+cell": {
     "cellMetadata": {
      "byteLimit": 2048000,
      "rowLimit": 10000
     },
     "inputWidgets": {},
     "nuid": "6e3e2d5c-72ee-4563-a1f1-522ff5b8f072",
     "showTitle": false,
     "tableResultSettingsMap": {},
     "title": ""
    }
   },
   "outputs": [],
   "source": [
    "\n",
    "# display(dbutils.fs.ls(f\"{ORDERS_PATH}\"))"
   ]
  },
  {
   "cell_type": "code",
   "execution_count": 0,
   "metadata": {
    "application/vnd.databricks.v1+cell": {
     "cellMetadata": {
      "byteLimit": 2048000,
      "rowLimit": 10000
     },
     "inputWidgets": {},
     "nuid": "cac39637-ce91-48ee-a196-0c7e60647477",
     "showTitle": false,
     "tableResultSettingsMap": {},
     "title": ""
    }
   },
   "outputs": [],
   "source": [
    "# display(dbutils.fs.ls(f\"{TRANSACTIONS_PATH}\"))"
   ]
  },
  {
   "cell_type": "code",
   "execution_count": 0,
   "metadata": {
    "application/vnd.databricks.v1+cell": {
     "cellMetadata": {
      "byteLimit": 2048000,
      "rowLimit": 10000
     },
     "inputWidgets": {},
     "nuid": "39308cc7-8508-450f-b0b8-a2b84dbcc91d",
     "showTitle": false,
     "tableResultSettingsMap": {},
     "title": ""
    }
   },
   "outputs": [],
   "source": [
    "# display(dbutils.fs.ls(f\"{PREFERENCES_PATH}\"))"
   ]
  },
  {
   "cell_type": "code",
   "execution_count": 0,
   "metadata": {
    "application/vnd.databricks.v1+cell": {
     "cellMetadata": {
      "byteLimit": 2048000,
      "rowLimit": 10000
     },
     "inputWidgets": {},
     "nuid": "11fe8a28-4836-4e25-8afe-2b58b7c69eaa",
     "showTitle": false,
     "tableResultSettingsMap": {},
     "title": ""
    }
   },
   "outputs": [],
   "source": [
    "# display(dbutils.fs.ls(f\"{FACEBOOK_PATH}\"))"
   ]
  },
  {
   "cell_type": "markdown",
   "metadata": {
    "application/vnd.databricks.v1+cell": {
     "cellMetadata": {
      "byteLimit": 2048000,
      "rowLimit": 10000
     },
     "inputWidgets": {},
     "nuid": "2ea41a0b-edda-4898-ab0b-08f2082a5954",
     "showTitle": false,
     "tableResultSettingsMap": {},
     "title": ""
    }
   },
   "source": [
    "\n",
    "### Python code for ingesting orders csv data from s3"
   ]
  },
  {
   "cell_type": "code",
   "execution_count": 0,
   "metadata": {
    "application/vnd.databricks.v1+cell": {
     "cellMetadata": {
      "byteLimit": 2048000,
      "rowLimit": 10000
     },
     "inputWidgets": {},
     "nuid": "dcd61b94-d419-417f-b4f9-c3ebbb916df5",
     "showTitle": false,
     "tableResultSettingsMap": {},
     "title": ""
    }
   },
   "outputs": [],
   "source": [
    "orders = spark.read.csv(f\"{ORDERS_PATH}\", header=True, inferSchema=True).select('*', F.col('_metadata.file_path').alias(\"source_file\"), F.current_timestamp().alias(\"ingest_ts\"))\n",
    "\n",
    "orders.write.format(\"delta\").mode(\"overwrite\").saveAsTable(\"orders_bronze\")"
   ]
  },
  {
   "cell_type": "code",
   "execution_count": 0,
   "metadata": {
    "application/vnd.databricks.v1+cell": {
     "cellMetadata": {},
     "inputWidgets": {},
     "nuid": "b4f8cc8b-98fa-453e-8170-6aa4242995d1",
     "showTitle": false,
     "tableResultSettingsMap": {},
     "title": ""
    }
   },
   "outputs": [],
   "source": [
    "# display(orders)"
   ]
  },
  {
   "cell_type": "markdown",
   "metadata": {
    "application/vnd.databricks.v1+cell": {
     "cellMetadata": {},
     "inputWidgets": {},
     "nuid": "3ffc9b38-6367-4f5f-8871-a5a3623f140e",
     "showTitle": false,
     "tableResultSettingsMap": {},
     "title": ""
    }
   },
   "source": [
    "\n",
    "### SQL code for ingesting orders csv data from s3"
   ]
  },
  {
   "cell_type": "code",
   "execution_count": 0,
   "metadata": {
    "application/vnd.databricks.v1+cell": {
     "cellMetadata": {
      "byteLimit": 2048000,
      "rowLimit": 10000
     },
     "inputWidgets": {},
     "nuid": "118c5e08-2da5-4b38-90e6-84f51af80cba",
     "showTitle": false,
     "tableResultSettingsMap": {},
     "title": ""
    }
   },
   "outputs": [],
   "source": [
    "# %python\n",
    "# dbutils.widgets.text(\"orders_path\", ORDERS_PATH, \"Orders Path\")\n",
    "# dbutils.widgets.text(\"transactions_path\", TRANSACTIONS_PATH, \"Transactions Path\")\n",
    "# dbutils.widgets.text(\"facebook_path\", FACEBOOK_PATH, \"Facebook Path\")\n",
    "# dbutils.widgets.text(\"preferences_path\", PREFERENCES_PATH, \"Preferences Path\")"
   ]
  },
  {
   "cell_type": "code",
   "execution_count": 0,
   "metadata": {
    "application/vnd.databricks.v1+cell": {
     "cellMetadata": {
      "byteLimit": 2048000,
      "implicitDf": true,
      "rowLimit": 10000
     },
     "inputWidgets": {},
     "nuid": "820c1e11-94ba-4aa4-acee-559d451eca87",
     "showTitle": false,
     "tableResultSettingsMap": {},
     "title": ""
    }
   },
   "outputs": [],
   "source": [
    "# %sql\n",
    "# CREATE OR REPLACE TABLE orders_bronze AS\n",
    "# SELECT *, input_file_name() AS source_file, current_timestamp() AS ingest_ts\n",
    "#   FROM csv.`${orders_path}`"
   ]
  },
  {
   "cell_type": "code",
   "execution_count": 0,
   "metadata": {
    "application/vnd.databricks.v1+cell": {
     "cellMetadata": {},
     "inputWidgets": {},
     "nuid": "32b92490-d194-4d39-b95e-c01b96116244",
     "showTitle": false,
     "tableResultSettingsMap": {},
     "title": ""
    }
   },
   "outputs": [],
   "source": [
    "# %sql\n",
    "# SELECT * FROM orders_bronze;"
   ]
  },
  {
   "cell_type": "code",
   "execution_count": 0,
   "metadata": {
    "application/vnd.databricks.v1+cell": {
     "cellMetadata": {},
     "inputWidgets": {},
     "nuid": "dfe33f9c-9255-470a-a0d0-a0b68fa7dc37",
     "showTitle": false,
     "tableResultSettingsMap": {},
     "title": ""
    }
   },
   "outputs": [],
   "source": [
    "%sql\n",
    "\n",
    "GRANT SELECT ON TABLE orders_bronze TO devs;"
   ]
  },
  {
   "cell_type": "markdown",
   "metadata": {
    "application/vnd.databricks.v1+cell": {
     "cellMetadata": {},
     "inputWidgets": {},
     "nuid": "dcec976d-47f7-4a89-ab01-814e27750109",
     "showTitle": false,
     "tableResultSettingsMap": {},
     "title": ""
    }
   },
   "source": [
    "\n",
    "### Python code for ingesting transactions csv data from s3"
   ]
  },
  {
   "cell_type": "code",
   "execution_count": 0,
   "metadata": {
    "application/vnd.databricks.v1+cell": {
     "cellMetadata": {
      "byteLimit": 2048000,
      "rowLimit": 10000
     },
     "inputWidgets": {},
     "nuid": "2e2f239f-09a6-4fad-9694-75aa994dab1d",
     "showTitle": false,
     "tableResultSettingsMap": {},
     "title": ""
    }
   },
   "outputs": [],
   "source": [
    "transactions = spark.read.csv(f\"{TRANSACTIONS_PATH}\", header=True, inferSchema=True).select('*', F.col(\"_metadata.file_path\").alias(\"source_file\"), F.current_timestamp().alias(\"ingest_ts\"))\n",
    "\n",
    "transactions.write.format(\"delta\").mode(\"overwrite\").saveAsTable(\"transactions_bronze\")"
   ]
  },
  {
   "cell_type": "code",
   "execution_count": 0,
   "metadata": {
    "application/vnd.databricks.v1+cell": {
     "cellMetadata": {},
     "inputWidgets": {},
     "nuid": "a116a515-3773-4e91-a25b-79bce66a2694",
     "showTitle": false,
     "tableResultSettingsMap": {},
     "title": ""
    }
   },
   "outputs": [],
   "source": [
    "# display(transactions)"
   ]
  },
  {
   "cell_type": "markdown",
   "metadata": {
    "application/vnd.databricks.v1+cell": {
     "cellMetadata": {},
     "inputWidgets": {},
     "nuid": "08226648-8c2e-4e21-a44c-a43974e8c537",
     "showTitle": false,
     "tableResultSettingsMap": {},
     "title": ""
    }
   },
   "source": [
    "\n",
    "### SQL code for ingesting transactions csv data from s3"
   ]
  },
  {
   "cell_type": "code",
   "execution_count": 0,
   "metadata": {
    "application/vnd.databricks.v1+cell": {
     "cellMetadata": {
      "byteLimit": 2048000,
      "implicitDf": true,
      "rowLimit": 10000
     },
     "inputWidgets": {},
     "nuid": "2569955e-02a8-49e6-ae1e-e870b68d3ccd",
     "showTitle": false,
     "tableResultSettingsMap": {},
     "title": ""
    }
   },
   "outputs": [],
   "source": [
    "# %sql\n",
    "# CREATE OR REPLACE TABLE transactions_bronze AS\n",
    "# SELECT *, input_file_name() AS source_file, current_timestamp() AS ingest_ts\n",
    "#   FROM csv.`${transactions_path}`;\n",
    "\n",
    "# SELECT * FROM transactions_bronze;"
   ]
  },
  {
   "cell_type": "code",
   "execution_count": 0,
   "metadata": {
    "application/vnd.databricks.v1+cell": {
     "cellMetadata": {
      "byteLimit": 2048000,
      "implicitDf": true,
      "rowLimit": 10000
     },
     "inputWidgets": {},
     "nuid": "9c145924-fc8c-4c1a-a99a-3387264e6b40",
     "showTitle": false,
     "tableResultSettingsMap": {},
     "title": ""
    }
   },
   "outputs": [],
   "source": [
    "%sql\n",
    "\n",
    "GRANT SELECT ON TABLE transactions_bronze TO devs;"
   ]
  },
  {
   "cell_type": "markdown",
   "metadata": {
    "application/vnd.databricks.v1+cell": {
     "cellMetadata": {},
     "inputWidgets": {},
     "nuid": "5b30fa42-5779-4406-99ed-b49ea3c803ec",
     "showTitle": false,
     "tableResultSettingsMap": {},
     "title": ""
    }
   },
   "source": [
    "\n",
    "### Python code for ingesting facebook interactions json data from s3"
   ]
  },
  {
   "cell_type": "code",
   "execution_count": 0,
   "metadata": {
    "application/vnd.databricks.v1+cell": {
     "cellMetadata": {
      "byteLimit": 2048000,
      "rowLimit": 10000
     },
     "inputWidgets": {},
     "nuid": "d854bb96-1e8b-4c2d-9260-a8ff0a0dbdaa",
     "showTitle": false,
     "tableResultSettingsMap": {},
     "title": ""
    }
   },
   "outputs": [],
   "source": [
    "fb = spark.read.json(f\"{FACEBOOK_PATH}\").select('*', F.col(\"_metadata.file_path\").alias(\"source_file\"), F.current_timestamp().alias(\"ingest_ts\"))\n",
    "\n",
    "fb.write.format(\"delta\").mode(\"overwrite\").saveAsTable(\"facebook_bronze\")"
   ]
  },
  {
   "cell_type": "code",
   "execution_count": 0,
   "metadata": {
    "application/vnd.databricks.v1+cell": {
     "cellMetadata": {},
     "inputWidgets": {},
     "nuid": "5a375907-4aa9-475f-8262-85566c761f83",
     "showTitle": false,
     "tableResultSettingsMap": {},
     "title": ""
    }
   },
   "outputs": [],
   "source": [
    "# display(fb)"
   ]
  },
  {
   "cell_type": "markdown",
   "metadata": {
    "application/vnd.databricks.v1+cell": {
     "cellMetadata": {},
     "inputWidgets": {},
     "nuid": "13ccf2a1-2f84-4ba5-a93a-07033bd11a90",
     "showTitle": false,
     "tableResultSettingsMap": {},
     "title": ""
    }
   },
   "source": [
    "\n",
    "### SQL code for ingesting facebook interactions json data from s3"
   ]
  },
  {
   "cell_type": "code",
   "execution_count": 0,
   "metadata": {
    "application/vnd.databricks.v1+cell": {
     "cellMetadata": {
      "byteLimit": 2048000,
      "implicitDf": true,
      "rowLimit": 10000
     },
     "inputWidgets": {},
     "nuid": "54bc632f-bd34-47b9-b937-2cafe77f2a46",
     "showTitle": false,
     "tableResultSettingsMap": {},
     "title": ""
    }
   },
   "outputs": [],
   "source": [
    "# %sql\n",
    "# CREATE OR REPLACE TABLE facebook_bronze AS\n",
    "# SELECT *, input_file_name() AS source_file, current_timestamp() AS ingest_ts\n",
    "#   FROM json.`${facebook_path}`;\n",
    "\n",
    "\n",
    "# SELECT * FROM facebook_bronze;"
   ]
  },
  {
   "cell_type": "code",
   "execution_count": 0,
   "metadata": {
    "application/vnd.databricks.v1+cell": {
     "cellMetadata": {
      "byteLimit": 2048000,
      "implicitDf": true,
      "rowLimit": 10000
     },
     "inputWidgets": {},
     "nuid": "2a7646d8-91ca-4286-a015-44e253c1bd07",
     "showTitle": false,
     "tableResultSettingsMap": {},
     "title": ""
    }
   },
   "outputs": [],
   "source": [
    "%sql\n",
    "\n",
    "GRANT SELECT ON TABLE facebook_bronze TO devs;"
   ]
  },
  {
   "cell_type": "markdown",
   "metadata": {
    "application/vnd.databricks.v1+cell": {
     "cellMetadata": {},
     "inputWidgets": {},
     "nuid": "673fb749-425e-435e-b15d-32529e7ef351",
     "showTitle": false,
     "tableResultSettingsMap": {},
     "title": ""
    }
   },
   "source": [
    "\n",
    "### Python code for ingesting preferences json data from s3"
   ]
  },
  {
   "cell_type": "code",
   "execution_count": 0,
   "metadata": {
    "application/vnd.databricks.v1+cell": {
     "cellMetadata": {
      "byteLimit": 2048000,
      "rowLimit": 10000
     },
     "inputWidgets": {},
     "nuid": "8f38af31-15f3-4ff7-b24b-9a0911a775f7",
     "showTitle": false,
     "tableResultSettingsMap": {},
     "title": ""
    }
   },
   "outputs": [],
   "source": [
    "preferences = spark.read.json(f\"{PREFERENCES_PATH}\").select('*', F.col(\"_metadata.file_path\").alias(\"source_file\"), F.current_timestamp().alias(\"ingest_ts\"))\n",
    "\n",
    "preferences.write.format(\"delta\").mode(\"overwrite\").saveAsTable(\"preferences_bronze\")"
   ]
  },
  {
   "cell_type": "code",
   "execution_count": 0,
   "metadata": {
    "application/vnd.databricks.v1+cell": {
     "cellMetadata": {},
     "inputWidgets": {},
     "nuid": "ce24945f-5214-4338-95c3-e9db9dd9d7f9",
     "showTitle": false,
     "tableResultSettingsMap": {},
     "title": ""
    }
   },
   "outputs": [],
   "source": [
    "# display(preferences)"
   ]
  },
  {
   "cell_type": "markdown",
   "metadata": {
    "application/vnd.databricks.v1+cell": {
     "cellMetadata": {},
     "inputWidgets": {},
     "nuid": "3a521994-b593-4c61-afd0-8bc9e7a10465",
     "showTitle": false,
     "tableResultSettingsMap": {},
     "title": ""
    }
   },
   "source": [
    "\n",
    "### SQL code for ingesting preferences json data from s3"
   ]
  },
  {
   "cell_type": "code",
   "execution_count": 0,
   "metadata": {
    "application/vnd.databricks.v1+cell": {
     "cellMetadata": {
      "byteLimit": 2048000,
      "implicitDf": true,
      "rowLimit": 10000
     },
     "inputWidgets": {},
     "nuid": "4889ccab-a0ba-485c-95d3-86916ff5592f",
     "showTitle": false,
     "tableResultSettingsMap": {},
     "title": ""
    }
   },
   "outputs": [],
   "source": [
    "# %sql\n",
    "# CREATE OR REPLACE TABLE preferences_bronze AS\n",
    "# SELECT *, input_file_name() AS source_file, current_timestamp() AS ingest_ts\n",
    "#   FROM json.`${preferences_path}`;\n",
    "\n",
    "# SELECT * FROM preferences_bronze;"
   ]
  },
  {
   "cell_type": "code",
   "execution_count": 0,
   "metadata": {
    "application/vnd.databricks.v1+cell": {
     "cellMetadata": {
      "byteLimit": 2048000,
      "implicitDf": true,
      "rowLimit": 10000
     },
     "inputWidgets": {},
     "nuid": "18733f95-b798-49ad-8aea-bc0e9a8f7abd",
     "showTitle": false,
     "tableResultSettingsMap": {},
     "title": ""
    }
   },
   "outputs": [],
   "source": [
    "%sql\n",
    "\n",
    "GRANT SELECT ON TABLE preferences_bronze TO devs;"
   ]
  }
 ],
 "metadata": {
  "application/vnd.databricks.v1+notebook": {
   "computePreferences": null,
   "dashboards": [],
   "environmentMetadata": {
    "base_environment": "",
    "environment_version": "2"
   },
   "language": "python",
   "notebookMetadata": {
    "mostRecentlyExecutedCommandWithImplicitDF": {
     "commandId": 5060276027678965,
     "dataframes": [
      "_sqldf"
     ]
    },
    "pythonIndentUnit": 4
   },
   "notebookName": "ingest_s3",
   "widgets": {
    "facebook_path": {
     "currentValue": "s3://thedatalead-databricks-customer360/facebook/",
     "nuid": "020486d2-8041-42f1-bfcf-485f6c5335f7",
     "typedWidgetInfo": {
      "autoCreated": false,
      "defaultValue": "s3://thedatalead-databricks-customer360/facebook/",
      "label": "Facebook Path",
      "name": "facebook_path",
      "options": {
       "widgetDisplayType": "Text",
       "validationRegex": null
      },
      "parameterDataType": "String"
     },
     "widgetInfo": {
      "widgetType": "text",
      "defaultValue": "s3://thedatalead-databricks-customer360/facebook/",
      "label": "Facebook Path",
      "name": "facebook_path",
      "options": {
       "widgetType": "text",
       "autoCreated": null,
       "validationRegex": null
      }
     }
    },
    "orders_path": {
     "currentValue": "s3://thedatalead-databricks-customer360/orders/",
     "nuid": "8af1b9f6-bc00-4464-966a-18490265ff0a",
     "typedWidgetInfo": {
      "autoCreated": false,
      "defaultValue": "s3://thedatalead-databricks-customer360/orders/",
      "label": "Orders Path",
      "name": "orders_path",
      "options": {
       "widgetDisplayType": "Text",
       "validationRegex": null
      },
      "parameterDataType": "String"
     },
     "widgetInfo": {
      "widgetType": "text",
      "defaultValue": "s3://thedatalead-databricks-customer360/orders/",
      "label": "Orders Path",
      "name": "orders_path",
      "options": {
       "widgetType": "text",
       "autoCreated": null,
       "validationRegex": null
      }
     }
    },
    "preferences_path": {
     "currentValue": "s3://thedatalead-databricks-customer360/preferences/",
     "nuid": "220579b5-63ec-4786-83ed-92f6e2de8653",
     "typedWidgetInfo": {
      "autoCreated": false,
      "defaultValue": "s3://thedatalead-databricks-customer360/preferences/",
      "label": "Preferences Path",
      "name": "preferences_path",
      "options": {
       "widgetDisplayType": "Text",
       "validationRegex": null
      },
      "parameterDataType": "String"
     },
     "widgetInfo": {
      "widgetType": "text",
      "defaultValue": "s3://thedatalead-databricks-customer360/preferences/",
      "label": "Preferences Path",
      "name": "preferences_path",
      "options": {
       "widgetType": "text",
       "autoCreated": null,
       "validationRegex": null
      }
     }
    },
    "transactions_path": {
     "currentValue": "s3://thedatalead-databricks-customer360/transactions/",
     "nuid": "ddc22f74-74e8-4302-8439-642117c31299",
     "typedWidgetInfo": {
      "autoCreated": false,
      "defaultValue": "s3://thedatalead-databricks-customer360/transactions/",
      "label": "Transactions Path",
      "name": "transactions_path",
      "options": {
       "widgetDisplayType": "Text",
       "validationRegex": null
      },
      "parameterDataType": "String"
     },
     "widgetInfo": {
      "widgetType": "text",
      "defaultValue": "s3://thedatalead-databricks-customer360/transactions/",
      "label": "Transactions Path",
      "name": "transactions_path",
      "options": {
       "widgetType": "text",
       "autoCreated": null,
       "validationRegex": null
      }
     }
    }
   }
  },
  "language_info": {
   "name": "python"
  }
 },
 "nbformat": 4,
 "nbformat_minor": 0
}

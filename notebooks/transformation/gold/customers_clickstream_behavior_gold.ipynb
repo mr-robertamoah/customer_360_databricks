{
 "cells": [
  {
   "cell_type": "code",
   "execution_count": 0,
   "metadata": {
    "application/vnd.databricks.v1+cell": {
     "cellMetadata": {
      "byteLimit": 2048000,
      "rowLimit": 10000
     },
     "inputWidgets": {},
     "nuid": "0b3dede8-6ade-4c55-9a2a-8b3b1d26e0fe",
     "showTitle": false,
     "tableResultSettingsMap": {},
     "title": ""
    }
   },
   "outputs": [],
   "source": [
    "%run \"../../../config/setup\""
   ]
  },
  {
   "cell_type": "code",
   "execution_count": 0,
   "metadata": {
    "application/vnd.databricks.v1+cell": {
     "cellMetadata": {
      "byteLimit": 2048000,
      "rowLimit": 10000
     },
     "inputWidgets": {},
     "nuid": "9d718268-f590-4ed8-8f15-3836a71842ef",
     "showTitle": false,
     "tableResultSettingsMap": {},
     "title": ""
    }
   },
   "outputs": [],
   "source": [
    "%python\n",
    "\n",
    "%pip install user_agents"
   ]
  },
  {
   "cell_type": "code",
   "execution_count": 0,
   "metadata": {
    "application/vnd.databricks.v1+cell": {
     "cellMetadata": {
      "byteLimit": 2048000,
      "rowLimit": 10000
     },
     "inputWidgets": {},
     "nuid": "2d30acff-ebf3-4b8b-a809-032e4ed05153",
     "showTitle": false,
     "tableResultSettingsMap": {},
     "title": ""
    }
   },
   "outputs": [],
   "source": [
    "%python\n",
    "\n",
    "from pyspark.sql.functions import udf\n",
    "from pyspark.sql.types import StringType\n",
    "import user_agents\n",
    "\n",
    "# Define the UDF to parse user_agent and extract device_type\n",
    "def parse_user_agent(user_agent):\n",
    "    if user_agent:\n",
    "        ua = user_agents.parse(user_agent)\n",
    "        return ua.browser.family  # Returns device type (e.g., \"iPhone\", \"Mac\", \"Spider\")\n",
    "    return None\n",
    "\n",
    "# Register the UDF\n",
    "parse_user_agent_browser_udf = udf(parse_user_agent, StringType())\n",
    "\n",
    "spark.udf.register(\"parse_user_agent_browser_sql\", parse_user_agent_browser_udf)"
   ]
  },
  {
   "cell_type": "code",
   "execution_count": 0,
   "metadata": {
    "application/vnd.databricks.v1+cell": {
     "cellMetadata": {
      "byteLimit": 2048000,
      "rowLimit": 10000
     },
     "inputWidgets": {},
     "nuid": "9ed7084f-7447-445f-b956-13e3bd34ccce",
     "showTitle": false,
     "tableResultSettingsMap": {},
     "title": ""
    }
   },
   "outputs": [],
   "source": [
    "CREATE OR REPLACE TABLE customers_clickstream_behavior_gold AS\n",
    "WITH session_metrics AS (\n",
    "  SELECT\n",
    "    customer_id,\n",
    "    session_id,\n",
    "    COUNT(*) AS page_views,\n",
    "    FIRST_VALUE(page_url) OVER (PARTITION BY session_id ORDER BY any_value(date)) AS entry_page,\n",
    "    FIRST_VALUE(page_url) OVER (PARTITION BY session_id ORDER BY any_value(date) DESC) AS exit_page\n",
    "  FROM clickstream_customers_silver\n",
    "  GROUP BY customer_id, session_id, page_url\n",
    ")\n",
    "SELECT\n",
    "  sm.customer_id,\n",
    "  COUNT(DISTINCT sm.session_id) AS total_sessions,\n",
    "  AVG(sm.page_views) AS pages_per_session,\n",
    "  MODE(sm.entry_page) AS common_entry_page,\n",
    "  MODE(sm.exit_page) AS common_exit_page,\n",
    "  MODE(cl.preferred_browser) AS preferred_browser\n",
    "FROM session_metrics sm\n",
    "LEFT JOIN (\n",
    "  SELECT\n",
    "    customer_id,\n",
    "    parse_user_agent_browser_sql(user_agent) AS preferred_browser\n",
    "  FROM clickstream_customers_silver\n",
    ") cl ON sm.customer_id = cl.customer_id\n",
    "GROUP BY sm.customer_id;"
   ]
  }
 ],
 "metadata": {
  "application/vnd.databricks.v1+notebook": {
   "computePreferences": null,
   "dashboards": [],
   "environmentMetadata": {
    "base_environment": "",
    "environment_version": "2"
   },
   "language": "sql",
   "notebookMetadata": {
    "mostRecentlyExecutedCommandWithImplicitDF": {
     "commandId": 8935012990126223,
     "dataframes": [
      "_sqldf"
     ]
    },
    "pythonIndentUnit": 4
   },
   "notebookName": "customers_clickstream_behavior_gold",
   "widgets": {}
  },
  "language_info": {
   "name": "sql"
  }
 },
 "nbformat": 4,
 "nbformat_minor": 0
}

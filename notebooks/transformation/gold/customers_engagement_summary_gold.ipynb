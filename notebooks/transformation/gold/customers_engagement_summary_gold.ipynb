{
 "cells": [
  {
   "cell_type": "code",
   "execution_count": 0,
   "metadata": {
    "application/vnd.databricks.v1+cell": {
     "cellMetadata": {
      "byteLimit": 2048000,
      "rowLimit": 10000
     },
     "inputWidgets": {},
     "nuid": "73687f84-d875-4e5c-a14a-d80e88ea1402",
     "showTitle": false,
     "tableResultSettingsMap": {},
     "title": ""
    }
   },
   "outputs": [],
   "source": [
    "%run \"../../../config/setup\""
   ]
  },
  {
   "cell_type": "code",
   "execution_count": 0,
   "metadata": {
    "application/vnd.databricks.v1+cell": {
     "cellMetadata": {
      "byteLimit": 2048000,
      "rowLimit": 10000
     },
     "inputWidgets": {},
     "nuid": "cd667ab0-8fc8-4ca2-b14d-11ccef583f9d",
     "showTitle": false,
     "tableResultSettingsMap": {},
     "title": ""
    }
   },
   "outputs": [],
   "source": [
    "%python\n",
    "\n",
    "%pip install user_agents"
   ]
  },
  {
   "cell_type": "code",
   "execution_count": 0,
   "metadata": {
    "application/vnd.databricks.v1+cell": {
     "cellMetadata": {
      "byteLimit": 2048000,
      "rowLimit": 10000
     },
     "inputWidgets": {},
     "nuid": "bade576a-1b3d-4d40-a7e6-6bb1e7a80e95",
     "showTitle": false,
     "tableResultSettingsMap": {},
     "title": ""
    }
   },
   "outputs": [],
   "source": [
    "%python\n",
    "\n",
    "from pyspark.sql.functions import udf\n",
    "from pyspark.sql.types import StringType\n",
    "import user_agents\n",
    "\n",
    "# Define the UDF to parse user_agent and extract device_type\n",
    "def parse_user_agent(user_agent):\n",
    "    if user_agent:\n",
    "        ua = user_agents.parse(user_agent)\n",
    "        return ua.device.family  # Returns device type (e.g., \"iPhone\", \"Mac\", \"Spider\")\n",
    "    return None\n",
    "\n",
    "# Register the UDF\n",
    "parse_user_agent_udf = udf(parse_user_agent, StringType())\n",
    "\n",
    "spark.udf.register(\"parse_user_agent_browser_sql\", parse_user_agent_udf)"
   ]
  },
  {
   "cell_type": "code",
   "execution_count": 0,
   "metadata": {
    "application/vnd.databricks.v1+cell": {
     "cellMetadata": {
      "byteLimit": 2048000,
      "rowLimit": 10000
     },
     "inputWidgets": {},
     "nuid": "4712c843-703f-4ae0-a9b6-9f48f701d72d",
     "showTitle": false,
     "tableResultSettingsMap": {},
     "title": ""
    }
   },
   "outputs": [],
   "source": [
    "CREATE OR REPLACE TABLE customers_engagement_summary_gold AS\n",
    "WITH session_data AS (\n",
    "  SELECT\n",
    "    customer_id,\n",
    "    session_id,\n",
    "    COUNT(*) AS page_views\n",
    "  FROM clickstream_customers_silver\n",
    "  GROUP BY customer_id, session_id\n",
    ")\n",
    "SELECT\n",
    "  c.customer_id,\n",
    "  COUNT(t.transaction_id) AS total_transactions,\n",
    "  COUNT(fi.interaction_type) AS total_facebook_actions,\n",
    "  -- AVG(UNIX_TIMESTAMP(session_end) - UNIX_TIMESTAMP(session_start)) AS avg_session_duration_seconds,\n",
    "  MODE(cl.page_url) AS most_visited_page,\n",
    "  MAX(fi.interaction_date) AS last_facebook_interaction,\n",
    "  MODE(cl.device_type) AS device_type\n",
    "FROM customers_silver c\n",
    "LEFT JOIN transactions_silver t ON c.customer_id = t.customer_id\n",
    "LEFT JOIN facebook_silver fi ON c.customer_id = fi.customer_id\n",
    "LEFT JOIN session_data s ON c.customer_id = s.customer_id\n",
    "LEFT JOIN (\n",
    "  SELECT\n",
    "    customer_id,\n",
    "    parse_user_agent_browser_sql(user_agent) AS device_type,\n",
    "    page_url\n",
    "  FROM clickstream_customers_silver\n",
    ") cl ON c.customer_id = cl.customer_id\n",
    "GROUP BY c.customer_id;"
   ]
  }
 ],
 "metadata": {
  "application/vnd.databricks.v1+notebook": {
   "computePreferences": null,
   "dashboards": [],
   "environmentMetadata": {
    "base_environment": "",
    "environment_version": "2"
   },
   "language": "sql",
   "notebookMetadata": {
    "mostRecentlyExecutedCommandWithImplicitDF": {
     "commandId": 8935012990126204,
     "dataframes": [
      "_sqldf"
     ]
    },
    "pythonIndentUnit": 4
   },
   "notebookName": "customers_engagement_summary_gold",
   "widgets": {}
  },
  "language_info": {
   "name": "sql"
  }
 },
 "nbformat": 4,
 "nbformat_minor": 0
}

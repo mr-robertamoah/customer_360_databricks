{
 "cells": [
  {
   "cell_type": "code",
   "execution_count": 0,
   "metadata": {
    "application/vnd.databricks.v1+cell": {
     "cellMetadata": {
      "byteLimit": 2048000,
      "rowLimit": 10000
     },
     "inputWidgets": {},
     "nuid": "3bdb2d5a-28a8-473b-844f-53fba899b5ab",
     "showTitle": false,
     "tableResultSettingsMap": {},
     "title": ""
    }
   },
   "outputs": [],
   "source": [
    "%run \"../../../config/setup\""
   ]
  },
  {
   "cell_type": "code",
   "execution_count": 0,
   "metadata": {
    "application/vnd.databricks.v1+cell": {
     "cellMetadata": {
      "byteLimit": 2048000,
      "rowLimit": 10000
     },
     "inputWidgets": {},
     "nuid": "c16a42ed-0ebf-4193-8de6-2632d0e823ba",
     "showTitle": false,
     "tableResultSettingsMap": {},
     "title": ""
    }
   },
   "outputs": [],
   "source": [
    "-- Compute the average total_amount for discount_sensitivity calculation\n",
    "CREATE OR REPLACE TEMPORARY VIEW avg_total_amount AS\n",
    "SELECT AVG(total_amount) AS avg_total_amount FROM transactions_silver;\n",
    "\n",
    "-- Perform the main query to create the preference_analysis table\n",
    "CREATE OR REPLACE TABLE customers_preference_analysis_gold AS\n",
    "WITH customer_preferences AS (\n",
    "  SELECT\n",
    "    c.customer_id,\n",
    "    i.category,\n",
    "    i.price,\n",
    "    t.total_amount,\n",
    "    MONTH(t.transaction_date) AS transaction_month\n",
    "  FROM customers_silver c\n",
    "  LEFT JOIN transactions_silver t ON c.customer_id = t.customer_id\n",
    "  LEFT JOIN orders_silver o ON t.transaction_id = o.transaction_id\n",
    "  LEFT JOIN items_dedupped i ON o.item_id = i.item_id\n",
    "),\n",
    "aggregated_preferences AS (\n",
    "  SELECT\n",
    "    customer_id,\n",
    "    -- Calculate top_category using MODE (most frequent category)\n",
    "    FIRST(category) AS top_category,\n",
    "    -- Calculate preferred_price_range as \"min_price-max_price\"\n",
    "    CONCAT(FLOOR(MIN(price)), '-', FLOOR(MAX(price))) AS preferred_price_range,\n",
    "    -- Calculate discount_sensitivity (if customer has transactions below average)\n",
    "    SUM(CASE WHEN total_amount < (SELECT avg_total_amount FROM avg_total_amount) THEN 1 ELSE 0 END) > 0 AS discount_sensitivity,\n",
    "    -- Calculate seasonal_purchaser (if standard deviation of transaction months < 2)\n",
    "    STDDEV(transaction_month) < 2 AS seasonal_purchaser\n",
    "  FROM customer_preferences\n",
    "  GROUP BY customer_id\n",
    ")\n",
    "SELECT * FROM aggregated_preferences;"
   ]
  }
 ],
 "metadata": {
  "application/vnd.databricks.v1+notebook": {
   "computePreferences": null,
   "dashboards": [],
   "environmentMetadata": {
    "base_environment": "",
    "environment_version": "2"
   },
   "language": "sql",
   "notebookMetadata": {
    "mostRecentlyExecutedCommandWithImplicitDF": {
     "commandId": 8935012990126219,
     "dataframes": [
      "_sqldf"
     ]
    },
    "pythonIndentUnit": 4
   },
   "notebookName": "customers_preference_analysis_gold",
   "widgets": {}
  },
  "language_info": {
   "name": "sql"
  }
 },
 "nbformat": 4,
 "nbformat_minor": 0
}

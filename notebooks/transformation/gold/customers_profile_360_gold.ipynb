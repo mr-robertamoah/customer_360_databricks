{
 "cells": [
  {
   "cell_type": "code",
   "execution_count": 0,
   "metadata": {
    "application/vnd.databricks.v1+cell": {
     "cellMetadata": {
      "byteLimit": 2048000,
      "rowLimit": 10000
     },
     "inputWidgets": {},
     "nuid": "da38bd4f-f80a-4a43-9d9b-77018ed29edf",
     "showTitle": false,
     "tableResultSettingsMap": {},
     "title": ""
    }
   },
   "outputs": [],
   "source": [
    "%run \"../../../config/setup\""
   ]
  },
  {
   "cell_type": "code",
   "execution_count": 0,
   "metadata": {
    "application/vnd.databricks.v1+cell": {
     "cellMetadata": {
      "byteLimit": 2048000,
      "rowLimit": 10000
     },
     "inputWidgets": {},
     "nuid": "81affc6c-da4f-4393-8482-25f10640c601",
     "showTitle": false,
     "tableResultSettingsMap": {},
     "title": ""
    }
   },
   "outputs": [],
   "source": [
    "CREATE OR REPLACE TABLE customer_profile_360_gold AS\n",
    "WITH favorite_item AS (\n",
    "  SELECT \n",
    "    c.customer_id,\n",
    "    FIRST(i.item_name) AS favorite_item\n",
    "  FROM customers_silver c\n",
    "  LEFT JOIN transactions_silver t ON c.customer_id = t.customer_id\n",
    "  LEFT JOIN orders_silver o ON t.transaction_id = o.transaction_id\n",
    "  LEFT JOIN items_dedupped i ON o.item_id = i.item_id\n",
    "  GROUP BY c.customer_id\n",
    "  ORDER BY COUNT(i.item_name) DESC\n",
    ")\n",
    "SELECT\n",
    "  c.customer_id,\n",
    "  c.first_name,\n",
    "  c.last_name,\n",
    "  ANY_VALUE(c.city) AS city,\n",
    "  MAX(YEAR(c.registration_date)) AS registration_year,\n",
    "  COALESCE(SUM(t.total_amount), 0) AS total_lifetime_spend,\n",
    "  AVG(t.total_amount) AS avg_order_value,\n",
    "  MAX(t.transaction_date) AS last_purchase_date,\n",
    "  MODE(p.pref_value) AS preferred_category,\n",
    "  MODE(f.interaction_type) AS top_facebook_action,\n",
    "  COUNT(cl.action) AS total_clicks,\n",
    "  fi.favorite_item,\n",
    "  EXISTS(SELECT 1 FROM clickstream_customers_silver cl2 WHERE cl2.customer_id = c.customer_id AND cl2.action LIKE '%like%') AS like_engagement\n",
    "FROM customers_silver c\n",
    "LEFT JOIN transactions_silver t ON c.customer_id = t.customer_id\n",
    "LEFT JOIN preferences_silver p ON c.customer_id = p.customer_id AND p.preference_category = 'product_type'\n",
    "LEFT JOIN facebook_silver f ON c.customer_id = f.customer_id\n",
    "LEFT JOIN clickstream_customers_silver cl ON c.customer_id = cl.customer_id AND cl.action = 'page_view'\n",
    "LEFT JOIN favorite_item fi ON c.customer_id = fi.customer_id\n",
    "GROUP BY c.customer_id, c.first_name, c.last_name, fi.favorite_item;"
   ]
  }
 ],
 "metadata": {
  "application/vnd.databricks.v1+notebook": {
   "computePreferences": null,
   "dashboards": [],
   "environmentMetadata": {
    "base_environment": "",
    "environment_version": "2"
   },
   "language": "sql",
   "notebookMetadata": {
    "mostRecentlyExecutedCommandWithImplicitDF": {
     "commandId": 8620688378163177,
     "dataframes": [
      "_sqldf"
     ]
    },
    "pythonIndentUnit": 4
   },
   "notebookName": "customers_profile_360_gold",
   "widgets": {}
  },
  "language_info": {
   "name": "sql"
  }
 },
 "nbformat": 4,
 "nbformat_minor": 0
}

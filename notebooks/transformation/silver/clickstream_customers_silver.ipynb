{
 "cells": [
  {
   "cell_type": "code",
   "execution_count": 0,
   "metadata": {
    "application/vnd.databricks.v1+cell": {
     "cellMetadata": {
      "byteLimit": 2048000,
      "rowLimit": 10000
     },
     "inputWidgets": {},
     "nuid": "bf935bc5-0efa-4cff-a54d-d5da3e1561fd",
     "showTitle": false,
     "tableResultSettingsMap": {},
     "title": ""
    }
   },
   "outputs": [],
   "source": [
    "%run \"../../../config/setup\""
   ]
  },
  {
   "cell_type": "markdown",
   "metadata": {
    "application/vnd.databricks.v1+cell": {
     "cellMetadata": {},
     "inputWidgets": {},
     "nuid": "46121c6d-49fd-44db-ba24-68e583ac9324",
     "showTitle": false,
     "tableResultSettingsMap": {},
     "title": ""
    }
   },
   "source": [
    "\n",
    "Break down click streams into clickstreams from customers"
   ]
  },
  {
   "cell_type": "code",
   "execution_count": 0,
   "metadata": {
    "application/vnd.databricks.v1+cell": {
     "cellMetadata": {
      "byteLimit": 2048000,
      "rowLimit": 10000
     },
     "inputWidgets": {},
     "nuid": "1cf87224-cebb-4ca1-b260-5d353c2b4eda",
     "showTitle": false,
     "tableResultSettingsMap": {},
     "title": ""
    }
   },
   "outputs": [],
   "source": [
    "CREATE TABLE IF NOT EXISTS clickstream_customers_silver\n",
    "(customer_id STRING, action STRING, page_url STRING, session_id STRING, date DATE, user_agent STRING);\n",
    "\n",
    "MERGE INTO clickstream_customers_silver AS target\n",
    "USING (\n",
    "  SELECT \n",
    "    customer_id, \n",
    "    action, \n",
    "    page_url, \n",
    "    session_id, \n",
    "    CAST(timestamp as DATE) AS date, \n",
    "    user_agent\n",
    "  FROM clickstream_bronze \n",
    "  WHERE customer_id IS NOT NULL\n",
    ") AS source\n",
    "ON target.customer_id = source.customer_id AND target.session_id = source.session_id\n",
    "WHEN NOT MATCHED THEN\n",
    "  INSERT (customer_id, action, page_url, session_id, date, user_agent)\n",
    "  VALUES (source.customer_id, source.action, source.page_url, source.session_id, source.date, source.user_agent)"
   ]
  },
  {
   "cell_type": "code",
   "execution_count": 0,
   "metadata": {
    "application/vnd.databricks.v1+cell": {
     "cellMetadata": {
      "byteLimit": 2048000,
      "rowLimit": 10000
     },
     "inputWidgets": {},
     "nuid": "b6597ae5-2068-4079-8eaa-9cd475ac26c6",
     "showTitle": false,
     "tableResultSettingsMap": {},
     "title": ""
    }
   },
   "outputs": [],
   "source": [
    "GRANT SELECT ON TABLE clickstream_customers_silver TO devs"
   ]
  }
 ],
 "metadata": {
  "application/vnd.databricks.v1+notebook": {
   "computePreferences": null,
   "dashboards": [],
   "environmentMetadata": {
    "base_environment": "",
    "environment_version": "2"
   },
   "language": "sql",
   "notebookMetadata": {
    "mostRecentlyExecutedCommandWithImplicitDF": {
     "commandId": 727906898398503,
     "dataframes": [
      "_sqldf"
     ]
    },
    "pythonIndentUnit": 4
   },
   "notebookName": "clickstream_customers_silver",
   "widgets": {}
  },
  "language_info": {
   "name": "sql"
  }
 },
 "nbformat": 4,
 "nbformat_minor": 0
}

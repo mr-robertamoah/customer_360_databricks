{
 "cells": [
  {
   "cell_type": "code",
   "execution_count": 0,
   "metadata": {
    "application/vnd.databricks.v1+cell": {
     "cellMetadata": {
      "byteLimit": 2048000,
      "rowLimit": 10000
     },
     "inputWidgets": {},
     "nuid": "bf935bc5-0efa-4cff-a54d-d5da3e1561fd",
     "showTitle": false,
     "tableResultSettingsMap": {},
     "title": ""
    }
   },
   "outputs": [],
   "source": [
    "%run \"../../../config/setup\""
   ]
  },
  {
   "cell_type": "markdown",
   "metadata": {
    "application/vnd.databricks.v1+cell": {
     "cellMetadata": {},
     "inputWidgets": {},
     "nuid": "46121c6d-49fd-44db-ba24-68e583ac9324",
     "showTitle": false,
     "tableResultSettingsMap": {},
     "title": ""
    }
   },
   "source": [
    "\n",
    "Break down click streams into clickstreams from guest"
   ]
  },
  {
   "cell_type": "code",
   "execution_count": 0,
   "metadata": {
    "application/vnd.databricks.v1+cell": {
     "cellMetadata": {
      "byteLimit": 2048000,
      "rowLimit": 10000
     },
     "inputWidgets": {},
     "nuid": "ff03360d-2e79-4a86-8ff3-348510241293",
     "showTitle": false,
     "tableResultSettingsMap": {},
     "title": ""
    }
   },
   "outputs": [],
   "source": [
    "CREATE TABLE IF NOT EXISTS clickstream_guests_silver\n",
    "(customer_id STRING, action STRING, page_url STRING, session_id STRING, date DATE, user_agent STRING);\n",
    "\n",
    "MERGE INTO clickstream_guests_silver AS target\n",
    "USING (\n",
    "  SELECT \n",
    "    customer_id, \n",
    "    action, \n",
    "    page_url, \n",
    "    session_id, \n",
    "    CAST(timestamp as DATE) AS date, \n",
    "    user_agent\n",
    "  FROM clickstream_bronze \n",
    "  WHERE customer_id IS NULL\n",
    ") AS source\n",
    "ON target.customer_id = source.customer_id AND target.session_id = source.session_id\n",
    "WHEN NOT MATCHED THEN\n",
    "  INSERT (customer_id, action, page_url, session_id, date, user_agent)\n",
    "  VALUES (source.customer_id, source.action, source.page_url, source.session_id, source.date, source.user_agent)"
   ]
  },
  {
   "cell_type": "code",
   "execution_count": 0,
   "metadata": {
    "application/vnd.databricks.v1+cell": {
     "cellMetadata": {
      "byteLimit": 2048000,
      "rowLimit": 10000
     },
     "inputWidgets": {},
     "nuid": "54361d74-29bd-408c-8d18-4510faaf1f79",
     "showTitle": false,
     "tableResultSettingsMap": {},
     "title": ""
    }
   },
   "outputs": [],
   "source": [
    "GRANT SELECT ON TABLE clickstream_guests_silver TO devs"
   ]
  }
 ],
 "metadata": {
  "application/vnd.databricks.v1+notebook": {
   "computePreferences": null,
   "dashboards": [],
   "environmentMetadata": {
    "base_environment": "",
    "environment_version": "2"
   },
   "language": "sql",
   "notebookMetadata": {
    "mostRecentlyExecutedCommandWithImplicitDF": {
     "commandId": 3741955280847047,
     "dataframes": [
      "_sqldf"
     ]
    },
    "pythonIndentUnit": 4
   },
   "notebookName": "clickstream_guests_silver",
   "widgets": {}
  },
  "language_info": {
   "name": "sql"
  }
 },
 "nbformat": 4,
 "nbformat_minor": 0
}

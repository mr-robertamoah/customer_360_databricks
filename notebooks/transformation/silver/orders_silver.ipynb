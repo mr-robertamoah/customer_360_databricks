{
 "cells": [
  {
   "cell_type": "code",
   "execution_count": 0,
   "metadata": {
    "application/vnd.databricks.v1+cell": {
     "cellMetadata": {
      "byteLimit": 2048000,
      "rowLimit": 10000
     },
     "inputWidgets": {},
     "nuid": "92431162-5099-40da-a5e3-801130a119a4",
     "showTitle": false,
     "tableResultSettingsMap": {},
     "title": ""
    }
   },
   "outputs": [],
   "source": [
    "%run \"../../../config/setup\""
   ]
  },
  {
   "cell_type": "code",
   "execution_count": 0,
   "metadata": {
    "application/vnd.databricks.v1+cell": {
     "cellMetadata": {
      "byteLimit": 2048000,
      "rowLimit": 10000
     },
     "inputWidgets": {},
     "nuid": "d72dcdae-d4c2-4bc0-b4eb-17bf77e1f0f5",
     "showTitle": false,
     "tableResultSettingsMap": {},
     "title": ""
    }
   },
   "outputs": [],
   "source": [
    "CREATE OR REPLACE VIEW orders_dedupped AS\n",
    "  SELECT \n",
    "    item_id, \n",
    "    transaction_id, \n",
    "    max(quantity) AS quantity, \n",
    "    max(price) AS price, \n",
    "    max(source_file) AS source_file, \n",
    "    max(ingest_ts) AS ingest_ts\n",
    "  FROM orders_bronze\n",
    "  WHERE \n",
    "    item_id IS NOT NULL AND\n",
    "    transaction_id IS NOT NULL \n",
    "  GROUP BY item_id, transaction_id\n",
    "  "
   ]
  },
  {
   "cell_type": "code",
   "execution_count": 0,
   "metadata": {
    "application/vnd.databricks.v1+cell": {
     "cellMetadata": {
      "byteLimit": 2048000,
      "rowLimit": 10000
     },
     "inputWidgets": {},
     "nuid": "1e3f5bca-038a-4b12-8883-f4822021e862",
     "showTitle": false,
     "tableResultSettingsMap": {},
     "title": ""
    }
   },
   "outputs": [],
   "source": [
    "GRANT SELECT ON VIEW orders_dedupped TO devs"
   ]
  },
  {
   "cell_type": "code",
   "execution_count": 0,
   "metadata": {
    "application/vnd.databricks.v1+cell": {
     "cellMetadata": {
      "byteLimit": 2048000,
      "rowLimit": 10000
     },
     "inputWidgets": {},
     "nuid": "63f6befe-cb2b-451c-902b-dc8f26c00e9b",
     "showTitle": false,
     "tableResultSettingsMap": {},
     "title": ""
    }
   },
   "outputs": [],
   "source": [
    "CREATE OR REPLACE TABLE orders_silver AS\n",
    "  SELECT \n",
    "    item_id, \n",
    "    transaction_id, \n",
    "    quantity, \n",
    "    price,\n",
    "    CAST(ingest_ts AS DATE) AS ingest_date\n",
    "  FROM orders_dedupped\n",
    "  "
   ]
  },
  {
   "cell_type": "code",
   "execution_count": 0,
   "metadata": {
    "application/vnd.databricks.v1+cell": {
     "cellMetadata": {
      "byteLimit": 2048000,
      "rowLimit": 10000
     },
     "inputWidgets": {},
     "nuid": "6149c3c6-67c8-400c-9938-ce471cb3a957",
     "showTitle": false,
     "tableResultSettingsMap": {},
     "title": ""
    }
   },
   "outputs": [],
   "source": [
    "GRANT SELECT ON TABLE orders_silver TO devs"
   ]
  },
  {
   "cell_type": "code",
   "execution_count": 0,
   "metadata": {
    "application/vnd.databricks.v1+cell": {
     "cellMetadata": {
      "byteLimit": 2048000,
      "rowLimit": 10000
     },
     "inputWidgets": {},
     "nuid": "7840cb46-ff2e-4e03-8e46-596aa1305bcc",
     "showTitle": false,
     "tableResultSettingsMap": {},
     "title": ""
    }
   },
   "outputs": [],
   "source": [
    "-- fix error in generated orders and transaction data\n",
    "\n",
    "-- SELECT \n",
    "--   a.transaction_id, \n",
    "--   a.item_id,\n",
    "--   b.total_amount\n",
    "-- FROM orders_silver AS a\n",
    "-- INNER JOIN transactions_silver AS b\n",
    "-- ON a.transaction_id = b.transaction_id\n",
    "-- GROUP BY a.transaction_id, a.item_id, b.total_amount\n",
    "-- HAVING SUM(a.quantity * a.price) = b.total_amount"
   ]
  }
 ],
 "metadata": {
  "application/vnd.databricks.v1+notebook": {
   "computePreferences": null,
   "dashboards": [],
   "environmentMetadata": {
    "base_environment": "",
    "environment_version": "2"
   },
   "language": "sql",
   "notebookMetadata": {
    "mostRecentlyExecutedCommandWithImplicitDF": {
     "commandId": 5045441379506788,
     "dataframes": [
      "_sqldf"
     ]
    },
    "pythonIndentUnit": 4
   },
   "notebookName": "orders_silver",
   "widgets": {}
  },
  "language_info": {
   "name": "sql"
  }
 },
 "nbformat": 4,
 "nbformat_minor": 0
}

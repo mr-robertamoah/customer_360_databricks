{
 "cells": [
  {
   "cell_type": "code",
   "execution_count": 0,
   "metadata": {
    "application/vnd.databricks.v1+cell": {
     "cellMetadata": {
      "byteLimit": 2048000,
      "rowLimit": 10000
     },
     "inputWidgets": {},
     "nuid": "564a5335-39f9-4ff4-8700-8b1108238ba5",
     "showTitle": false,
     "tableResultSettingsMap": {},
     "title": ""
    }
   },
   "outputs": [],
   "source": [
    "%run \"../../../config/setup\""
   ]
  },
  {
   "cell_type": "code",
   "execution_count": 0,
   "metadata": {
    "application/vnd.databricks.v1+cell": {
     "cellMetadata": {
      "byteLimit": 2048000,
      "rowLimit": 10000
     },
     "inputWidgets": {},
     "nuid": "3dc74e92-675b-4f18-b122-adb8902205eb",
     "showTitle": false,
     "tableResultSettingsMap": {},
     "title": ""
    }
   },
   "outputs": [],
   "source": [
    "CREATE OR REPLACE VIEW transactions_customer_dedup AS\n",
    "  SELECT \n",
    "    max(transaction_id) AS transaction_id, \n",
    "    customer_id,\n",
    "    max(transaction_date) AS transaction_date, \n",
    "    max(total_amount) AS total_amount,\n",
    "    max(source_file) AS source_file, \n",
    "    max(ingest_ts) AS ingest_ts \n",
    "  FROM transactions_bronze\n",
    "  WHERE customer_id IS NOT NULL \n",
    "  GROUP BY customer_id\n",
    "  "
   ]
  },
  {
   "cell_type": "code",
   "execution_count": 0,
   "metadata": {
    "application/vnd.databricks.v1+cell": {
     "cellMetadata": {
      "byteLimit": 2048000,
      "rowLimit": 10000
     },
     "inputWidgets": {},
     "nuid": "8aaf6634-c3d5-48af-97b6-12f0ae948cf2",
     "showTitle": false,
     "tableResultSettingsMap": {},
     "title": ""
    }
   },
   "outputs": [],
   "source": [
    "GRANT SELECT ON VIEW transactions_customer_dedup TO devs;"
   ]
  },
  {
   "cell_type": "code",
   "execution_count": 0,
   "metadata": {
    "application/vnd.databricks.v1+cell": {
     "cellMetadata": {
      "byteLimit": 2048000,
      "rowLimit": 10000
     },
     "inputWidgets": {},
     "nuid": "a6ab984a-1755-474d-98a6-b087d8d5eac5",
     "showTitle": false,
     "tableResultSettingsMap": {},
     "title": ""
    }
   },
   "outputs": [],
   "source": [
    "CREATE OR REPLACE VIEW transactions_dedup AS\n",
    "  SELECT \n",
    "    transaction_id,\n",
    "    max(customer_id) AS customer_id,\n",
    "    max(transaction_date) AS transaction_date, \n",
    "    max(total_amount) AS total_amount,\n",
    "    max(source_file) AS source_file, \n",
    "    max(ingest_ts) AS ingest_ts \n",
    "  FROM transactions_customer_dedup\n",
    "  WHERE transaction_id IS NOT NULL \n",
    "  GROUP BY transaction_id\n",
    "  "
   ]
  },
  {
   "cell_type": "code",
   "execution_count": 0,
   "metadata": {
    "application/vnd.databricks.v1+cell": {
     "cellMetadata": {
      "byteLimit": 2048000,
      "rowLimit": 10000
     },
     "inputWidgets": {},
     "nuid": "2156da8f-f874-4aec-a80a-68693242d155",
     "showTitle": false,
     "tableResultSettingsMap": {},
     "title": ""
    }
   },
   "outputs": [],
   "source": [
    "GRANT SELECT ON VIEW transactions_dedup TO devs;"
   ]
  },
  {
   "cell_type": "code",
   "execution_count": 0,
   "metadata": {
    "application/vnd.databricks.v1+cell": {
     "cellMetadata": {
      "byteLimit": 2048000,
      "rowLimit": 10000
     },
     "inputWidgets": {},
     "nuid": "15d43cdf-aa46-4e82-8c5b-200dff4783cb",
     "showTitle": false,
     "tableResultSettingsMap": {},
     "title": ""
    }
   },
   "outputs": [],
   "source": [
    "CREATE OR REPLACE TABLE transactions_silver AS\n",
    "  SELECT \n",
    "    transaction_id,\n",
    "    CAST(customer_id AS INT) AS customer_id,\n",
    "    transaction_date, \n",
    "    total_amount\n",
    "  FROM transactions_dedup\n",
    "  "
   ]
  },
  {
   "cell_type": "code",
   "execution_count": 0,
   "metadata": {
    "application/vnd.databricks.v1+cell": {
     "cellMetadata": {
      "byteLimit": 2048000,
      "rowLimit": 10000
     },
     "inputWidgets": {},
     "nuid": "b0181a94-88ba-44fd-a100-ee677a8e283d",
     "showTitle": false,
     "tableResultSettingsMap": {},
     "title": ""
    }
   },
   "outputs": [],
   "source": [
    "GRANT SELECT ON TABLE transactions_silver TO devs;"
   ]
  }
 ],
 "metadata": {
  "application/vnd.databricks.v1+notebook": {
   "computePreferences": null,
   "dashboards": [],
   "environmentMetadata": {
    "base_environment": "",
    "environment_version": "2"
   },
   "language": "sql",
   "notebookMetadata": {
    "mostRecentlyExecutedCommandWithImplicitDF": {
     "commandId": 5045441379506786,
     "dataframes": [
      "_sqldf"
     ]
    },
    "pythonIndentUnit": 4
   },
   "notebookName": "transactions_silver",
   "widgets": {}
  },
  "language_info": {
   "name": "sql"
  }
 },
 "nbformat": 4,
 "nbformat_minor": 0
}

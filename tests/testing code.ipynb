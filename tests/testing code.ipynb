{
 "cells": [
  {
   "cell_type": "code",
   "execution_count": 0,
   "metadata": {
    "application/vnd.databricks.v1+cell": {
     "cellMetadata": {
      "byteLimit": 2048000,
      "implicitDf": true,
      "rowLimit": 10000
     },
     "inputWidgets": {},
     "nuid": "95525c64-11d9-449d-9bb6-5dd4b60ae828",
     "showTitle": false,
     "tableResultSettingsMap": {},
     "title": ""
    }
   },
   "outputs": [],
   "source": [
    "%sql\n",
    "-- SHOW EXTERNAL LOCATIONS\n",
    "\n"
   ]
  },
  {
   "cell_type": "code",
   "execution_count": 0,
   "metadata": {
    "application/vnd.databricks.v1+cell": {
     "cellMetadata": {
      "byteLimit": 2048000,
      "rowLimit": 10000
     },
     "inputWidgets": {},
     "nuid": "e4ba4ecb-a93d-4297-9a49-0e9339ffb086",
     "showTitle": false,
     "tableResultSettingsMap": {},
     "title": ""
    }
   },
   "outputs": [],
   "source": [
    "%python\n",
    "# display(dbutils.fs.ls('s3://thedatalead-databricks-customer360/facebook'))"
   ]
  },
  {
   "cell_type": "code",
   "execution_count": 0,
   "metadata": {
    "application/vnd.databricks.v1+cell": {
     "cellMetadata": {
      "byteLimit": 2048000,
      "implicitDf": true,
      "rowLimit": 10000
     },
     "inputWidgets": {},
     "nuid": "90946cdd-70df-48a7-b990-f9270ea563fc",
     "showTitle": false,
     "tableResultSettingsMap": {},
     "title": ""
    }
   },
   "outputs": [],
   "source": [
    "%sql\n",
    "-- SELECT * from read_files('s3://thedatalead-databricks-customer360/orders/', format => 'csv')"
   ]
  },
  {
   "cell_type": "code",
   "execution_count": 0,
   "metadata": {
    "application/vnd.databricks.v1+cell": {
     "cellMetadata": {
      "byteLimit": 2048000,
      "implicitDf": true,
      "rowLimit": 10000
     },
     "inputWidgets": {},
     "nuid": "d828bed6-7a3d-48bd-b96a-cfbf31e9730c",
     "showTitle": false,
     "tableResultSettingsMap": {},
     "title": ""
    }
   },
   "outputs": [],
   "source": [
    "%sql\n",
    "\n",
    "-- CREATE TEMPORARY VIEW customers_tv\n",
    "-- USING mysql\n",
    "-- OPTIONS (\n",
    "--   dbtable \"customers\",\n",
    "--   user \"admin\",\n",
    "--   password \"\",\n",
    "--   host \"\",\n",
    "--   port \"3306\",\n",
    "--   database \"customer360\",\n",
    "--   driver \"org.mariadb.jdbc.Driver\"\n",
    "-- );\n",
    "\n",
    "-- SELECT * FROM customers_tv;"
   ]
  },
  {
   "cell_type": "code",
   "execution_count": 0,
   "metadata": {
    "application/vnd.databricks.v1+cell": {
     "cellMetadata": {
      "byteLimit": 2048000,
      "implicitDf": true,
      "rowLimit": 10000
     },
     "inputWidgets": {},
     "nuid": "b08e5278-045d-4622-a33a-cda65aeef417",
     "showTitle": false,
     "tableResultSettingsMap": {},
     "title": ""
    }
   },
   "outputs": [],
   "source": [
    "%sql\n",
    "\n",
    "-- CREATE EXTERNAL VOLUME IF NOT EXISTS customer360_checkpoint\n",
    "-- LOCATION 's3://thedatalead-databricks-customer360/checkpoints/'"
   ]
  },
  {
   "cell_type": "code",
   "execution_count": 0,
   "metadata": {
    "application/vnd.databricks.v1+cell": {
     "cellMetadata": {
      "byteLimit": 2048000,
      "rowLimit": 10000
     },
     "inputWidgets": {},
     "nuid": "79a3dc39-61ea-4115-9e4c-c33aee1203be",
     "showTitle": false,
     "tableResultSettingsMap": {},
     "title": ""
    }
   },
   "outputs": [],
   "source": [
    "# from settings import *\n",
    "# import os\n",
    "\n",
    "# os.environ['AWS_ACCESS_KEY_ID'] = AWS_ACCESS_KEY\n",
    "# os.environ['AWS_SECRET_ACCESS_KEY'] = AWS_SECRET_KEY\n",
    "\n",
    "# streaming_df = (spark.readStream \\\n",
    "#     .format(\"kinesis\") \\\n",
    "#     .option(\"streamName\", KINESIS_STREAM) \\\n",
    "#     .option(\"region\", AWS_REGION) \\\n",
    "#     .option(\"initialPosition\", \"latest\") \\\n",
    "#     .load())\n",
    "\n",
    "# query = streaming_df.select(\"data\")\n",
    "# display(streaming_df.select(\"data\"))\n",
    "# streaming_df.printSchema()\n"
   ]
  },
  {
   "cell_type": "code",
   "execution_count": 0,
   "metadata": {
    "application/vnd.databricks.v1+cell": {
     "cellMetadata": {},
     "inputWidgets": {},
     "nuid": "2a6ae6f4-5a21-401b-bb8b-bb0daee81eb2",
     "showTitle": false,
     "tableResultSettingsMap": {},
     "title": ""
    }
   },
   "outputs": [],
   "source": []
  }
 ],
 "metadata": {
  "application/vnd.databricks.v1+notebook": {
   "computePreferences": null,
   "dashboards": [],
   "environmentMetadata": {
    "base_environment": "",
    "environment_version": "2"
   },
   "language": "python",
   "notebookMetadata": {
    "mostRecentlyExecutedCommandWithImplicitDF": {
     "commandId": 5045441379506691,
     "dataframes": [
      "_sqldf"
     ]
    },
    "pythonIndentUnit": 4
   },
   "notebookName": "testing code",
   "widgets": {}
  },
  "language_info": {
   "name": "python"
  }
 },
 "nbformat": 4,
 "nbformat_minor": 0
}
